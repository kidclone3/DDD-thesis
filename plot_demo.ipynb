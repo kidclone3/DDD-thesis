{
 "cells": [
  {
   "cell_type": "code",
   "execution_count": 3,
   "metadata": {},
   "outputs": [
    {
     "name": "stdout",
     "output_type": "stream",
     "text": [
      "Collecting plotly==5.22.0\n",
      "  Downloading plotly-5.22.0-py3-none-any.whl.metadata (7.1 kB)\n",
      "Collecting tenacity>=6.2.0 (from plotly==5.22.0)\n",
      "  Downloading tenacity-8.3.0-py3-none-any.whl.metadata (1.2 kB)\n",
      "Requirement already satisfied: packaging in /Users/delus/.pyenv/versions/3.10.12/lib/python3.10/site-packages (from plotly==5.22.0) (23.1)\n",
      "Downloading plotly-5.22.0-py3-none-any.whl (16.4 MB)\n",
      "\u001b[2K   \u001b[90m━━━━━━━━━━━━━━━━━━━━━━━━━━━━━━━━━━━━━━━━\u001b[0m \u001b[32m16.4/16.4 MB\u001b[0m \u001b[31m6.9 MB/s\u001b[0m eta \u001b[36m0:00:00\u001b[0m00:01\u001b[0m00:01\u001b[0mm\n",
      "\u001b[?25hDownloading tenacity-8.3.0-py3-none-any.whl (25 kB)\n",
      "Installing collected packages: tenacity, plotly\n",
      "Successfully installed plotly-5.22.0 tenacity-8.3.0\n"
     ]
    }
   ],
   "source": [
    "# !pip install plotly==5.22.0"
   ]
  },
  {
   "cell_type": "code",
   "execution_count": 30,
   "metadata": {},
   "outputs": [],
   "source": [
    "import matplotlib.pyplot as plt\n",
    "import plotly.express as px\n",
    "import plotly.graph_objects as go\n",
    "import pandas as pd"
   ]
  },
  {
   "cell_type": "code",
   "execution_count": 17,
   "metadata": {},
   "outputs": [],
   "source": [
    "# Sample data\n",
    "nodes = [0, 1, 3]\n",
    "time = [0, 1.34, 2.5674]\n",
    "\n",
    "# create a pd from the data\n",
    "df = pd.DataFrame({'nodes': nodes, 'time': time})"
   ]
  },
  {
   "cell_type": "code",
   "execution_count": 72,
   "metadata": {},
   "outputs": [
    {
     "data": {
      "image/png": "[encoded data removed]",
      "text/plain": [
       "<Figure size 600x400 with 1 Axes>"
      ]
     },
     "metadata": {},
     "output_type": "display_data"
    }
   ],
   "source": [
    "\n",
    "\n",
    "# Create the plot\n",
    "plt.figure(figsize=(6, 4))  # Set the figure size\n",
    "plt.scatter(nodes, time)  # Create a scatter plot\n",
    "\n",
    "# Set axis labels and title\n",
    "plt.xlabel(\"Node\")\n",
    "plt.ylabel(\"Time\")\n",
    "plt.title(\"Sample Plot\")\n",
    "\n",
    "# Using arrow to connect nodes[0] and nodes[1], using slight offset for better visibility\n",
    "# Reduce the linewidth and change the color to green\n",
    "# Set the arrow to middle of the line\n",
    "plt.annotate(\"\", xy=(nodes[1], time[1]), xytext=(nodes[0], time[0]),\n",
    "                arrowprops=dict(arrowstyle=\"->\", color=\"green\", lw=1), xycoords='data', textcoords='data')\n",
    "\n",
    "# Using matplotlib.pyplot.arrow to draw arrow in middle of nodes[1] and nodes[2]\n",
    "# Set the arrow color to red\n",
    "plt.arrow(nodes[1], time[1], (nodes[2] - nodes[1])/2, (time[2] - time[1])/2, head_width=0.1, head_length=0.1, fc='red', ec='red')\n",
    "plt.arrow(nodes[1], time[1], nodes[2] - nodes[1], time[2] - time[1], head_width=0, head_length=0.1, fc='red', ec='red')\n",
    "\n",
    "# Display the plot\n",
    "plt.grid(True)  # Add a grid\n",
    "plt.show()\n",
    "\n",
    "\n"
   ]
  },
  {
   "cell_type": "code",
   "execution_count": 29,
   "metadata": {},
   "outputs": [
    {
     "data": {
      "application/vnd.plotly.v1+json": {
       "config": {
        "plotlyServerURL": "https://plot.ly"
       },
       "data": [
        {
         "hovertemplate": "nodes=%{x}<br>time=%{y}<extra></extra>",
         "legendgroup": "",
         "marker": {
          "color": "#636efa",
          "symbol": "circle"
         },
         "mode": "markers",
         "name": "",
         "orientation": "v",
         "showlegend": false,
         "type": "scatter",
         "x": [
          0,
          1,
          3
         ],
         "xaxis": "x",
         "y": [
          0,
          1.34,
          2.5674
         ],
         "yaxis": "y"
        }
       ],
       "layout": {
        "annotations": [
         {
          "arrowcolor": "green",
          "arrowhead": 1,
          "arrowsize": 1,
          "arrowwidth": 2,
          "ax": 1,
          "axref": "x",
          "ay": 1.34,
          "ayref": "y",
          "x": 0,
          "xref": "x",
          "y": 0,
          "yref": "y"
         }
        ],
        "legend": {
         "tracegroupgap": 0
        },
        "template": {
         "data": {
          "bar": [
           {
            "error_x": {
             "color": "#2a3f5f"
            },
            "error_y": {
             "color": "#2a3f5f"
            },
            "marker": {
             "line": {
              "color": "#E5ECF6",
              "width": 0.5
             },
             "pattern": {
              "fillmode": "overlay",
              "size": 10,
              "solidity": 0.2
             }
            },
            "type": "bar"
           }
          ],
          "barpolar": [
           {
            "marker": {
             "line": {
              "color": "#E5ECF6",
              "width": 0.5
             },
             "pattern": {
              "fillmode": "overlay",
              "size": 10,
              "solidity": 0.2
             }
            },
            "type": "barpolar"
           }
          ],
          "carpet": [
           {
            "aaxis": {
             "endlinecolor": "#2a3f5f",
             "gridcolor": "white",
             "linecolor": "white",
             "minorgridcolor": "white",
             "startlinecolor": "#2a3f5f"
            },
            "baxis": {
             "endlinecolor": "#2a3f5f",
             "gridcolor": "white",
             "linecolor": "white",
             "minorgridcolor": "white",
             "startlinecolor": "#2a3f5f"
            },
            "type": "carpet"
           }
          ],
          "choropleth": [
           {
            "colorbar": {
             "outlinewidth": 0,
             "ticks": ""
            },
            "type": "choropleth"
           }
          ],
          "contour": [
           {
            "colorbar": {
             "outlinewidth": 0,
             "ticks": ""
            },
            "colorscale": [
             [
              0,
              "#0d0887"
             ],
             [
              0.1111111111111111,
              "#46039f"
             ],
             [
              0.2222222222222222,
              "#7201a8"
             ],
             [
              0.3333333333333333,
              "#9c179e"
             ],
             [
              0.4444444444444444,
              "#bd3786"
             ],
             [
              0.5555555555555556,
              "#d8576b"
             ],
             [
              0.6666666666666666,
              "#ed7953"
             ],
             [
              0.7777777777777778,
              "#fb9f3a"
             ],
             [
              0.8888888888888888,
              "#fdca26"
             ],
             [
              1,
              "#f0f921"
             ]
            ],
            "type": "contour"
           }
          ],
          "contourcarpet": [
           {
            "colorbar": {
             "outlinewidth": 0,
             "ticks": ""
            },
            "type": "contourcarpet"
           }
          ],
          "heatmap": [
           {
            "colorbar": {
             "outlinewidth": 0,
             "ticks": ""
            },
            "colorscale": [
             [
              0,
              "#0d0887"
             ],
             [
              0.1111111111111111,
              "#46039f"
             ],
             [
              0.2222222222222222,
              "#7201a8"
             ],
             [
              0.3333333333333333,
              "#9c179e"
             ],
             [
              0.4444444444444444,
              "#bd3786"
             ],
             [
              0.5555555555555556,
              "#d8576b"
             ],
             [
              0.6666666666666666,
              "#ed7953"
             ],
             [
              0.7777777777777778,
              "#fb9f3a"
             ],
             [
              0.8888888888888888,
              "#fdca26"
             ],
             [
              1,
              "#f0f921"
             ]
            ],
            "type": "heatmap"
           }
          ],
          "heatmapgl": [
           {
            "colorbar": {
             "outlinewidth": 0,
             "ticks": ""
            },
            "colorscale": [
             [
              0,
              "#0d0887"
             ],
             [
              0.1111111111111111,
              "#46039f"
             ],
             [
              0.2222222222222222,
              "#7201a8"
             ],
             [
              0.3333333333333333,
              "#9c179e"
             ],
             [
              0.4444444444444444,
              "#bd3786"
             ],
             [
              0.5555555555555556,
              "#d8576b"
             ],
             [
              0.6666666666666666,
              "#ed7953"
             ],
             [
              0.7777777777777778,
              "#fb9f3a"
             ],
             [
              0.8888888888888888,
              "#fdca26"
             ],
             [
              1,
              "#f0f921"
             ]
            ],
            "type": "heatmapgl"
           }
          ],
          "histogram": [
           {
            "marker": {
             "pattern": {
              "fillmode": "overlay",
              "size": 10,
              "solidity": 0.2
             }
            },
            "type": "histogram"
           }
          ],
          "histogram2d": [
           {
            "colorbar": {
             "outlinewidth": 0,
             "ticks": ""
            },
            "colorscale": [
             [
              0,
              "#0d0887"
             ],
             [
              0.1111111111111111,
              "#46039f"
             ],
             [
              0.2222222222222222,
              "#7201a8"
             ],
             [
              0.3333333333333333,
              "#9c179e"
             ],
             [
              0.4444444444444444,
              "#bd3786"
             ],
             [
              0.5555555555555556,
              "#d8576b"
             ],
             [
              0.6666666666666666,
              "#ed7953"
             ],
             [
              0.7777777777777778,
              "#fb9f3a"
             ],
             [
              0.8888888888888888,
              "#fdca26"
             ],
             [
              1,
              "#f0f921"
             ]
            ],
            "type": "histogram2d"
           }
          ],
          "histogram2dcontour": [
           {
            "colorbar": {
             "outlinewidth": 0,
             "ticks": ""
            },
            "colorscale": [
             [
              0,
              "#0d0887"
             ],
             [
              0.1111111111111111,
              "#46039f"
             ],
             [
              0.2222222222222222,
              "#7201a8"
             ],
             [
              0.3333333333333333,
              "#9c179e"
             ],
             [
              0.4444444444444444,
              "#bd3786"
             ],
             [
              0.5555555555555556,
              "#d8576b"
             ],
             [
              0.6666666666666666,
              "#ed7953"
             ],
             [
              0.7777777777777778,
              "#fb9f3a"
             ],
             [
              0.8888888888888888,
              "#fdca26"
             ],
             [
              1,
              "#f0f921"
             ]
            ],
            "type": "histogram2dcontour"
           }
          ],
          "mesh3d": [
           {
            "colorbar": {
             "outlinewidth": 0,
             "ticks": ""
            },
            "type": "mesh3d"
           }
          ],
          "parcoords": [
           {
            "line": {
             "colorbar": {
              "outlinewidth": 0,
              "ticks": ""
             }
            },
            "type": "parcoords"
           }
          ],
          "pie": [
           {
            "automargin": true,
            "type": "pie"
           }
          ],
          "scatter": [
           {
            "fillpattern": {
             "fillmode": "overlay",
             "size": 10,
             "solidity": 0.2
            },
            "type": "scatter"
           }
          ],
          "scatter3d": [
           {
            "line": {
             "colorbar": {
              "outlinewidth": 0,
              "ticks": ""
             }
            },
            "marker": {
             "colorbar": {
              "outlinewidth": 0,
              "ticks": ""
             }
            },
            "type": "scatter3d"
           }
          ],
          "scattercarpet": [
           {
            "marker": {
             "colorbar": {
              "outlinewidth": 0,
              "ticks": ""
             }
            },
            "type": "scattercarpet"
           }
          ],
          "scattergeo": [
           {
            "marker": {
             "colorbar": {
              "outlinewidth": 0,
              "ticks": ""
             }
            },
            "type": "scattergeo"
           }
          ],
          "scattergl": [
           {
            "marker": {
             "colorbar": {
              "outlinewidth": 0,
              "ticks": ""
             }
            },
            "type": "scattergl"
           }
          ],
          "scattermapbox": [
           {
            "marker": {
             "colorbar": {
              "outlinewidth": 0,
              "ticks": ""
             }
            },
            "type": "scattermapbox"
           }
          ],
          "scatterpolar": [
           {
            "marker": {
             "colorbar": {
              "outlinewidth": 0,
              "ticks": ""
             }
            },
            "type": "scatterpolar"
           }
          ],
          "scatterpolargl": [
           {
            "marker": {
             "colorbar": {
              "outlinewidth": 0,
              "ticks": ""
             }
            },
            "type": "scatterpolargl"
           }
          ],
          "scatterternary": [
           {
            "marker": {
             "colorbar": {
              "outlinewidth": 0,
              "ticks": ""
             }
            },
            "type": "scatterternary"
           }
          ],
          "surface": [
           {
            "colorbar": {
             "outlinewidth": 0,
             "ticks": ""
            },
            "colorscale": [
             [
              0,
              "#0d0887"
             ],
             [
              0.1111111111111111,
              "#46039f"
             ],
             [
              0.2222222222222222,
              "#7201a8"
             ],
             [
              0.3333333333333333,
              "#9c179e"
             ],
             [
              0.4444444444444444,
              "#bd3786"
             ],
             [
              0.5555555555555556,
              "#d8576b"
             ],
             [
              0.6666666666666666,
              "#ed7953"
             ],
             [
              0.7777777777777778,
              "#fb9f3a"
             ],
             [
              0.8888888888888888,
              "#fdca26"
             ],
             [
              1,
              "#f0f921"
             ]
            ],
            "type": "surface"
           }
          ],
          "table": [
           {
            "cells": {
             "fill": {
              "color": "#EBF0F8"
             },
             "line": {
              "color": "white"
             }
            },
            "header": {
             "fill": {
              "color": "#C8D4E3"
             },
             "line": {
              "color": "white"
             }
            },
            "type": "table"
           }
          ]
         },
         "layout": {
          "annotationdefaults": {
           "arrowcolor": "#2a3f5f",
           "arrowhead": 0,
           "arrowwidth": 1
          },
          "autotypenumbers": "strict",
          "coloraxis": {
           "colorbar": {
            "outlinewidth": 0,
            "ticks": ""
           }
          },
          "colorscale": {
           "diverging": [
            [
             0,
             "#8e0152"
            ],
            [
             0.1,
             "#c51b7d"
            ],
            [
             0.2,
             "#de77ae"
            ],
            [
             0.3,
             "#f1b6da"
            ],
            [
             0.4,
             "#fde0ef"
            ],
            [
             0.5,
             "#f7f7f7"
            ],
            [
             0.6,
             "#e6f5d0"
            ],
            [
             0.7,
             "#b8e186"
            ],
            [
             0.8,
             "#7fbc41"
            ],
            [
             0.9,
             "#4d9221"
            ],
            [
             1,
             "#276419"
            ]
           ],
           "sequential": [
            [
             0,
             "#0d0887"
            ],
            [
             0.1111111111111111,
             "#46039f"
            ],
            [
             0.2222222222222222,
             "#7201a8"
            ],
            [
             0.3333333333333333,
             "#9c179e"
            ],
            [
             0.4444444444444444,
             "#bd3786"
            ],
            [
             0.5555555555555556,
             "#d8576b"
            ],
            [
             0.6666666666666666,
             "#ed7953"
            ],
            [
             0.7777777777777778,
             "#fb9f3a"
            ],
            [
             0.8888888888888888,
             "#fdca26"
            ],
            [
             1,
             "#f0f921"
            ]
           ],
           "sequentialminus": [
            [
             0,
             "#0d0887"
            ],
            [
             0.1111111111111111,
             "#46039f"
            ],
            [
             0.2222222222222222,
             "#7201a8"
            ],
            [
             0.3333333333333333,
             "#9c179e"
            ],
            [
             0.4444444444444444,
             "#bd3786"
            ],
            [
             0.5555555555555556,
             "#d8576b"
            ],
            [
             0.6666666666666666,
             "#ed7953"
            ],
            [
             0.7777777777777778,
             "#fb9f3a"
            ],
            [
             0.8888888888888888,
             "#fdca26"
            ],
            [
             1,
             "#f0f921"
            ]
           ]
          },
          "colorway": [
           "#636efa",
           "#EF553B",
           "#00cc96",
           "#ab63fa",
           "#FFA15A",
           "#19d3f3",
           "#FF6692",
           "#B6E880",
           "#FF97FF",
           "#FECB52"
          ],
          "font": {
           "color": "#2a3f5f"
          },
          "geo": {
           "bgcolor": "white",
           "lakecolor": "white",
           "landcolor": "#E5ECF6",
           "showlakes": true,
           "showland": true,
           "subunitcolor": "white"
          },
          "hoverlabel": {
           "align": "left"
          },
          "hovermode": "closest",
          "mapbox": {
           "style": "light"
          },
          "paper_bgcolor": "white",
          "plot_bgcolor": "#E5ECF6",
          "polar": {
           "angularaxis": {
            "gridcolor": "white",
            "linecolor": "white",
            "ticks": ""
           },
           "bgcolor": "#E5ECF6",
           "radialaxis": {
            "gridcolor": "white",
            "linecolor": "white",
            "ticks": ""
           }
          },
          "scene": {
           "xaxis": {
            "backgroundcolor": "#E5ECF6",
            "gridcolor": "white",
            "gridwidth": 2,
            "linecolor": "white",
            "showbackground": true,
            "ticks": "",
            "zerolinecolor": "white"
           },
           "yaxis": {
            "backgroundcolor": "#E5ECF6",
            "gridcolor": "white",
            "gridwidth": 2,
            "linecolor": "white",
            "showbackground": true,
            "ticks": "",
            "zerolinecolor": "white"
           },
           "zaxis": {
            "backgroundcolor": "#E5ECF6",
            "gridcolor": "white",
            "gridwidth": 2,
            "linecolor": "white",
            "showbackground": true,
            "ticks": "",
            "zerolinecolor": "white"
           }
          },
          "shapedefaults": {
           "line": {
            "color": "#2a3f5f"
           }
          },
          "ternary": {
           "aaxis": {
            "gridcolor": "white",
            "linecolor": "white",
            "ticks": ""
           },
           "baxis": {
            "gridcolor": "white",
            "linecolor": "white",
            "ticks": ""
           },
           "bgcolor": "#E5ECF6",
           "caxis": {
            "gridcolor": "white",
            "linecolor": "white",
            "ticks": ""
           }
          },
          "title": {
           "x": 0.05
          },
          "xaxis": {
           "automargin": true,
           "gridcolor": "white",
           "linecolor": "white",
           "ticks": "",
           "title": {
            "standoff": 15
           },
           "zerolinecolor": "white",
           "zerolinewidth": 2
          },
          "yaxis": {
           "automargin": true,
           "gridcolor": "white",
           "linecolor": "white",
           "ticks": "",
           "title": {
            "standoff": 15
           },
           "zerolinecolor": "white",
           "zerolinewidth": 2
          }
         }
        },
        "title": {
         "text": "Sample Plot"
        },
        "xaxis": {
         "anchor": "y",
         "domain": [
          0,
          1
         ],
         "title": {
          "text": "nodes"
         }
        },
        "yaxis": {
         "anchor": "x",
         "domain": [
          0,
          1
         ],
         "title": {
          "text": "time"
         }
        }
       }
      }
     },
     "metadata": {},
     "output_type": "display_data"
    }
   ],
   "source": [
    "# Using Plotly\n",
    "\n",
    "# Create a scatter plot\n",
    "fig = px.scatter(df, x='nodes', y='time', title='Sample Plot')  \n",
    "\n",
    "# Add an arrow to connect all the points, change the arrow style to arrow-bar-up\n",
    "fig.add_annotation(x=nodes[0], y=time[0], xref=\"x\", yref=\"y\",\n",
    "                   ax=nodes[1], ay=time[1], axref=\"x\", ayref=\"y\",\n",
    "                   arrowhead=1, arrowsize=1, arrowwidth=2, arrowcolor=\"green\",\n",
    "                   )\n",
    "# Show the plot\n",
    "fig.show()"
   ]
  },
  {
   "cell_type": "code",
   "execution_count": 55,
   "metadata": {},
   "outputs": [
    {
     "data": {
      "application/vnd.plotly.v1+json": {
       "config": {
        "plotlyServerURL": "https://plot.ly"
       },
       "data": [
        {
         "marker": {
          "color": "blue",
          "size": 10
         },
         "mode": "markers",
         "type": "scatter",
         "x": [
          1,
          2,
          3,
          4,
          5
         ],
         "y": [
          4,
          6,
          2,
          8,
          1
         ]
        }
       ],
       "layout": {
        "annotations": [
         {
          "arrowcolor": "green",
          "arrowhead": 7,
          "arrowsize": 1,
          "arrowwidth": 2,
          "ax": 2.5,
          "axref": "x",
          "ay": 4,
          "ayref": "y",
          "showarrow": true,
          "x": 2,
          "xref": "x",
          "y": 6,
          "yref": "y"
         },
         {
          "arrowcolor": "green",
          "arrowhead": 3,
          "arrowsize": 1,
          "arrowwidth": 2,
          "ax": 3,
          "axref": "x",
          "ay": 2,
          "ayref": "y",
          "showarrow": true,
          "x": 2.5,
          "xref": "x",
          "y": 4,
          "yref": "y"
         },
         {
          "arrowcolor": "green",
          "arrowhead": 7,
          "arrowsize": 1,
          "arrowwidth": 2,
          "ax": 4.5,
          "axref": "x",
          "ay": 4.5,
          "ayref": "y",
          "showarrow": true,
          "x": 4,
          "xref": "x",
          "y": 8,
          "yref": "y"
         },
         {
          "arrowcolor": "green",
          "arrowhead": 3,
          "arrowsize": 1,
          "arrowwidth": 2,
          "ax": 5,
          "axref": "x",
          "ay": 1,
          "ayref": "y",
          "showarrow": true,
          "x": 4.5,
          "xref": "x",
          "y": 4.5,
          "yref": "y"
         }
        ],
        "template": {
         "data": {
          "bar": [
           {
            "error_x": {
             "color": "#2a3f5f"
            },
            "error_y": {
             "color": "#2a3f5f"
            },
            "marker": {
             "line": {
              "color": "#E5ECF6",
              "width": 0.5
             },
             "pattern": {
              "fillmode": "overlay",
              "size": 10,
              "solidity": 0.2
             }
            },
            "type": "bar"
           }
          ],
          "barpolar": [
           {
            "marker": {
             "line": {
              "color": "#E5ECF6",
              "width": 0.5
             },
             "pattern": {
              "fillmode": "overlay",
              "size": 10,
              "solidity": 0.2
             }
            },
            "type": "barpolar"
           }
          ],
          "carpet": [
           {
            "aaxis": {
             "endlinecolor": "#2a3f5f",
             "gridcolor": "white",
             "linecolor": "white",
             "minorgridcolor": "white",
             "startlinecolor": "#2a3f5f"
            },
            "baxis": {
             "endlinecolor": "#2a3f5f",
             "gridcolor": "white",
             "linecolor": "white",
             "minorgridcolor": "white",
             "startlinecolor": "#2a3f5f"
            },
            "type": "carpet"
           }
          ],
          "choropleth": [
           {
            "colorbar": {
             "outlinewidth": 0,
             "ticks": ""
            },
            "type": "choropleth"
           }
          ],
          "contour": [
           {
            "colorbar": {
             "outlinewidth": 0,
             "ticks": ""
            },
            "colorscale": [
             [
              0,
              "#0d0887"
             ],
             [
              0.1111111111111111,
              "#46039f"
             ],
             [
              0.2222222222222222,
              "#7201a8"
             ],
             [
              0.3333333333333333,
              "#9c179e"
             ],
             [
              0.4444444444444444,
              "#bd3786"
             ],
             [
              0.5555555555555556,
              "#d8576b"
             ],
             [
              0.6666666666666666,
              "#ed7953"
             ],
             [
              0.7777777777777778,
              "#fb9f3a"
             ],
             [
              0.8888888888888888,
              "#fdca26"
             ],
             [
              1,
              "#f0f921"
             ]
            ],
            "type": "contour"
           }
          ],
          "contourcarpet": [
           {
            "colorbar": {
             "outlinewidth": 0,
             "ticks": ""
            },
            "type": "contourcarpet"
           }
          ],
          "heatmap": [
           {
            "colorbar": {
             "outlinewidth": 0,
             "ticks": ""
            },
            "colorscale": [
             [
              0,
              "#0d0887"
             ],
             [
              0.1111111111111111,
              "#46039f"
             ],
             [
              0.2222222222222222,
              "#7201a8"
             ],
             [
              0.3333333333333333,
              "#9c179e"
             ],
             [
              0.4444444444444444,
              "#bd3786"
             ],
             [
              0.5555555555555556,
              "#d8576b"
             ],
             [
              0.6666666666666666,
              "#ed7953"
             ],
             [
              0.7777777777777778,
              "#fb9f3a"
             ],
             [
              0.8888888888888888,
              "#fdca26"
             ],
             [
              1,
              "#f0f921"
             ]
            ],
            "type": "heatmap"
           }
          ],
          "heatmapgl": [
           {
            "colorbar": {
             "outlinewidth": 0,
             "ticks": ""
            },
            "colorscale": [
             [
              0,
              "#0d0887"
             ],
             [
              0.1111111111111111,
              "#46039f"
             ],
             [
              0.2222222222222222,
              "#7201a8"
             ],
             [
              0.3333333333333333,
              "#9c179e"
             ],
             [
              0.4444444444444444,
              "#bd3786"
             ],
             [
              0.5555555555555556,
              "#d8576b"
             ],
             [
              0.6666666666666666,
              "#ed7953"
             ],
             [
              0.7777777777777778,
              "#fb9f3a"
             ],
             [
              0.8888888888888888,
              "#fdca26"
             ],
             [
              1,
              "#f0f921"
             ]
            ],
            "type": "heatmapgl"
           }
          ],
          "histogram": [
           {
            "marker": {
             "pattern": {
              "fillmode": "overlay",
              "size": 10,
              "solidity": 0.2
             }
            },
            "type": "histogram"
           }
          ],
          "histogram2d": [
           {
            "colorbar": {
             "outlinewidth": 0,
             "ticks": ""
            },
            "colorscale": [
             [
              0,
              "#0d0887"
             ],
             [
              0.1111111111111111,
              "#46039f"
             ],
             [
              0.2222222222222222,
              "#7201a8"
             ],
             [
              0.3333333333333333,
              "#9c179e"
             ],
             [
              0.4444444444444444,
              "#bd3786"
             ],
             [
              0.5555555555555556,
              "#d8576b"
             ],
             [
              0.6666666666666666,
              "#ed7953"
             ],
             [
              0.7777777777777778,
              "#fb9f3a"
             ],
             [
              0.8888888888888888,
              "#fdca26"
             ],
             [
              1,
              "#f0f921"
             ]
            ],
            "type": "histogram2d"
           }
          ],
          "histogram2dcontour": [
           {
            "colorbar": {
             "outlinewidth": 0,
             "ticks": ""
            },
            "colorscale": [
             [
              0,
              "#0d0887"
             ],
             [
              0.1111111111111111,
              "#46039f"
             ],
             [
              0.2222222222222222,
              "#7201a8"
             ],
             [
              0.3333333333333333,
              "#9c179e"
             ],
             [
              0.4444444444444444,
              "#bd3786"
             ],
             [
              0.5555555555555556,
              "#d8576b"
             ],
             [
              0.6666666666666666,
              "#ed7953"
             ],
             [
              0.7777777777777778,
              "#fb9f3a"
             ],
             [
              0.8888888888888888,
              "#fdca26"
             ],
             [
              1,
              "#f0f921"
             ]
            ],
            "type": "histogram2dcontour"
           }
          ],
          "mesh3d": [
           {
            "colorbar": {
             "outlinewidth": 0,
             "ticks": ""
            },
            "type": "mesh3d"
           }
          ],
          "parcoords": [
           {
            "line": {
             "colorbar": {
              "outlinewidth": 0,
              "ticks": ""
             }
            },
            "type": "parcoords"
           }
          ],
          "pie": [
           {
            "automargin": true,
            "type": "pie"
           }
          ],
          "scatter": [
           {
            "fillpattern": {
             "fillmode": "overlay",
             "size": 10,
             "solidity": 0.2
            },
            "type": "scatter"
           }
          ],
          "scatter3d": [
           {
            "line": {
             "colorbar": {
              "outlinewidth": 0,
              "ticks": ""
             }
            },
            "marker": {
             "colorbar": {
              "outlinewidth": 0,
              "ticks": ""
             }
            },
            "type": "scatter3d"
           }
          ],
          "scattercarpet": [
           {
            "marker": {
             "colorbar": {
              "outlinewidth": 0,
              "ticks": ""
             }
            },
            "type": "scattercarpet"
           }
          ],
          "scattergeo": [
           {
            "marker": {
             "colorbar": {
              "outlinewidth": 0,
              "ticks": ""
             }
            },
            "type": "scattergeo"
           }
          ],
          "scattergl": [
           {
            "marker": {
             "colorbar": {
              "outlinewidth": 0,
              "ticks": ""
             }
            },
            "type": "scattergl"
           }
          ],
          "scattermapbox": [
           {
            "marker": {
             "colorbar": {
              "outlinewidth": 0,
              "ticks": ""
             }
            },
            "type": "scattermapbox"
           }
          ],
          "scatterpolar": [
           {
            "marker": {
             "colorbar": {
              "outlinewidth": 0,
              "ticks": ""
             }
            },
            "type": "scatterpolar"
           }
          ],
          "scatterpolargl": [
           {
            "marker": {
             "colorbar": {
              "outlinewidth": 0,
              "ticks": ""
             }
            },
            "type": "scatterpolargl"
           }
          ],
          "scatterternary": [
           {
            "marker": {
             "colorbar": {
              "outlinewidth": 0,
              "ticks": ""
             }
            },
            "type": "scatterternary"
           }
          ],
          "surface": [
           {
            "colorbar": {
             "outlinewidth": 0,
             "ticks": ""
            },
            "colorscale": [
             [
              0,
              "#0d0887"
             ],
             [
              0.1111111111111111,
              "#46039f"
             ],
             [
              0.2222222222222222,
              "#7201a8"
             ],
             [
              0.3333333333333333,
              "#9c179e"
             ],
             [
              0.4444444444444444,
              "#bd3786"
             ],
             [
              0.5555555555555556,
              "#d8576b"
             ],
             [
              0.6666666666666666,
              "#ed7953"
             ],
             [
              0.7777777777777778,
              "#fb9f3a"
             ],
             [
              0.8888888888888888,
              "#fdca26"
             ],
             [
              1,
              "#f0f921"
             ]
            ],
            "type": "surface"
           }
          ],
          "table": [
           {
            "cells": {
             "fill": {
              "color": "#EBF0F8"
             },
             "line": {
              "color": "white"
             }
            },
            "header": {
             "fill": {
              "color": "#C8D4E3"
             },
             "line": {
              "color": "white"
             }
            },
            "type": "table"
           }
          ]
         },
         "layout": {
          "annotationdefaults": {
           "arrowcolor": "#2a3f5f",
           "arrowhead": 0,
           "arrowwidth": 1
          },
          "autotypenumbers": "strict",
          "coloraxis": {
           "colorbar": {
            "outlinewidth": 0,
            "ticks": ""
           }
          },
          "colorscale": {
           "diverging": [
            [
             0,
             "#8e0152"
            ],
            [
             0.1,
             "#c51b7d"
            ],
            [
             0.2,
             "#de77ae"
            ],
            [
             0.3,
             "#f1b6da"
            ],
            [
             0.4,
             "#fde0ef"
            ],
            [
             0.5,
             "#f7f7f7"
            ],
            [
             0.6,
             "#e6f5d0"
            ],
            [
             0.7,
             "#b8e186"
            ],
            [
             0.8,
             "#7fbc41"
            ],
            [
             0.9,
             "#4d9221"
            ],
            [
             1,
             "#276419"
            ]
           ],
           "sequential": [
            [
             0,
             "#0d0887"
            ],
            [
             0.1111111111111111,
             "#46039f"
            ],
            [
             0.2222222222222222,
             "#7201a8"
            ],
            [
             0.3333333333333333,
             "#9c179e"
            ],
            [
             0.4444444444444444,
             "#bd3786"
            ],
            [
             0.5555555555555556,
             "#d8576b"
            ],
            [
             0.6666666666666666,
             "#ed7953"
            ],
            [
             0.7777777777777778,
             "#fb9f3a"
            ],
            [
             0.8888888888888888,
             "#fdca26"
            ],
            [
             1,
             "#f0f921"
            ]
           ],
           "sequentialminus": [
            [
             0,
             "#0d0887"
            ],
            [
             0.1111111111111111,
             "#46039f"
            ],
            [
             0.2222222222222222,
             "#7201a8"
            ],
            [
             0.3333333333333333,
             "#9c179e"
            ],
            [
             0.4444444444444444,
             "#bd3786"
            ],
            [
             0.5555555555555556,
             "#d8576b"
            ],
            [
             0.6666666666666666,
             "#ed7953"
            ],
            [
             0.7777777777777778,
             "#fb9f3a"
            ],
            [
             0.8888888888888888,
             "#fdca26"
            ],
            [
             1,
             "#f0f921"
            ]
           ]
          },
          "colorway": [
           "#636efa",
           "#EF553B",
           "#00cc96",
           "#ab63fa",
           "#FFA15A",
           "#19d3f3",
           "#FF6692",
           "#B6E880",
           "#FF97FF",
           "#FECB52"
          ],
          "font": {
           "color": "#2a3f5f"
          },
          "geo": {
           "bgcolor": "white",
           "lakecolor": "white",
           "landcolor": "#E5ECF6",
           "showlakes": true,
           "showland": true,
           "subunitcolor": "white"
          },
          "hoverlabel": {
           "align": "left"
          },
          "hovermode": "closest",
          "mapbox": {
           "style": "light"
          },
          "paper_bgcolor": "white",
          "plot_bgcolor": "#E5ECF6",
          "polar": {
           "angularaxis": {
            "gridcolor": "white",
            "linecolor": "white",
            "ticks": ""
           },
           "bgcolor": "#E5ECF6",
           "radialaxis": {
            "gridcolor": "white",
            "linecolor": "white",
            "ticks": ""
           }
          },
          "scene": {
           "xaxis": {
            "backgroundcolor": "#E5ECF6",
            "gridcolor": "white",
            "gridwidth": 2,
            "linecolor": "white",
            "showbackground": true,
            "ticks": "",
            "zerolinecolor": "white"
           },
           "yaxis": {
            "backgroundcolor": "#E5ECF6",
            "gridcolor": "white",
            "gridwidth": 2,
            "linecolor": "white",
            "showbackground": true,
            "ticks": "",
            "zerolinecolor": "white"
           },
           "zaxis": {
            "backgroundcolor": "#E5ECF6",
            "gridcolor": "white",
            "gridwidth": 2,
            "linecolor": "white",
            "showbackground": true,
            "ticks": "",
            "zerolinecolor": "white"
           }
          },
          "shapedefaults": {
           "line": {
            "color": "#2a3f5f"
           }
          },
          "ternary": {
           "aaxis": {
            "gridcolor": "white",
            "linecolor": "white",
            "ticks": ""
           },
           "baxis": {
            "gridcolor": "white",
            "linecolor": "white",
            "ticks": ""
           },
           "bgcolor": "#E5ECF6",
           "caxis": {
            "gridcolor": "white",
            "linecolor": "white",
            "ticks": ""
           }
          },
          "title": {
           "x": 0.05
          },
          "xaxis": {
           "automargin": true,
           "gridcolor": "white",
           "linecolor": "white",
           "ticks": "",
           "title": {
            "standoff": 15
           },
           "zerolinecolor": "white",
           "zerolinewidth": 2
          },
          "yaxis": {
           "automargin": true,
           "gridcolor": "white",
           "linecolor": "white",
           "ticks": "",
           "title": {
            "standoff": 15
           },
           "zerolinecolor": "white",
           "zerolinewidth": 2
          }
         }
        },
        "title": {
         "text": "Scatter Plot with Arrows"
        },
        "xaxis": {
         "title": {
          "text": "X-axis"
         }
        },
        "yaxis": {
         "title": {
          "text": "Y-axis"
         }
        }
       }
      }
     },
     "metadata": {},
     "output_type": "display_data"
    }
   ],
   "source": [
    "# Sample data for scatter plot\n",
    "x = [1, 2, 3, 4, 5]\n",
    "y = [4, 6, 2, 8, 1]\n",
    "\n",
    "# Define starting and ending points for arrows (modify as needed)\n",
    "start_arrows = [(2, 6), (4, 8)]  # Adjust these for your data points\n",
    "end_arrows = [(3, 2), (5, 1)]  # Adjust these for your data points\n",
    "\n",
    "# Create scatter plot with markers\n",
    "trace1 = go.Scatter(\n",
    "    x=x,\n",
    "    y=y,\n",
    "    mode='markers',\n",
    "    marker=dict(size=10, color='blue')  # Adjust marker size and color\n",
    ")\n",
    "\n",
    "# Draw arrows between points\n",
    "arrow_annotations = []\n",
    "for start, end in zip(start_arrows, end_arrows):\n",
    "    mid_point = ((start[0]+end[0])/2, (start[1]+end[1])/2)  # Calculate mid point\n",
    "\n",
    "    # Arrow from start to mid point\n",
    "    arrow_annotations.append(\n",
    "        dict(\n",
    "            x=start[0],\n",
    "            y=start[1],\n",
    "            xref='x',\n",
    "            yref='y',\n",
    "            ax=mid_point[0],\n",
    "            ay=mid_point[1],\n",
    "            axref='x',\n",
    "            ayref='y',\n",
    "            showarrow=True,\n",
    "            arrowhead=7,\n",
    "            arrowsize=1,\n",
    "            arrowwidth=2,\n",
    "            arrowcolor='green',  # Adjust arrow color\n",
    "        )\n",
    "    )\n",
    "\n",
    "    # Arrow from mid point to end\n",
    "    arrow_annotations.append(\n",
    "        dict(\n",
    "            x=mid_point[0],\n",
    "            y=mid_point[1],\n",
    "            xref='x',\n",
    "            yref='y',\n",
    "            ax=end[0],\n",
    "            ay=end[1],\n",
    "            axref='x',\n",
    "            ayref='y',\n",
    "            showarrow=True,\n",
    "            arrowhead=3,\n",
    "            arrowsize=1,\n",
    "            arrowwidth=2,\n",
    "            arrowcolor='green',  # Adjust arrow color\n",
    "        )\n",
    "    )\n",
    "# Combine the scatter plot and annotations in a layout\n",
    "layout = go.Layout(\n",
    "    title='Scatter Plot with Arrows',\n",
    "    xaxis=dict(title='X-axis'),\n",
    "    yaxis=dict(title='Y-axis'),\n",
    "    annotations=arrow_annotations\n",
    ")\n",
    "\n",
    "fig = go.Figure(data=[trace1], layout=layout)\n",
    "fig.show()"
   ]
  },
  {
   "cell_type": "code",
   "execution_count": 107,
   "metadata": {},
   "outputs": [
    {
     "name": "stdout",
     "output_type": "stream",
     "text": [
      "Collecting pygraphviz\n",
      "  Downloading pygraphviz-1.13.tar.gz (104 kB)\n",
      "\u001b[2K     \u001b[90m━━━━━━━━━━━━━━━━━━━━━━━━━━━━━━━━━━━━━\u001b[0m \u001b[32m104.6/104.6 kB\u001b[0m \u001b[31m326.4 kB/s\u001b[0m eta \u001b[36m0:00:00\u001b[0ma \u001b[36m0:00:01\u001b[0m\n",
      "\u001b[?25h  Installing build dependencies ... \u001b[?25ldone\n",
      "\u001b[?25h  Getting requirements to build wheel ... \u001b[?25ldone\n",
      "\u001b[?25h  Installing backend dependencies ... \u001b[?25ldone\n",
      "\u001b[?25h  Preparing metadata (pyproject.toml) ... \u001b[?25ldone\n",
      "\u001b[?25hBuilding wheels for collected packages: pygraphviz\n",
      "  Building wheel for pygraphviz (pyproject.toml) ... \u001b[?25lerror\n",
      "  \u001b[1;31merror\u001b[0m: \u001b[1msubprocess-exited-with-error\u001b[0m\n",
      "  \n",
      "  \u001b[31m×\u001b[0m \u001b[32mBuilding wheel for pygraphviz \u001b[0m\u001b[1;32m(\u001b[0m\u001b[32mpyproject.toml\u001b[0m\u001b[1;32m)\u001b[0m did not run successfully.\n",
      "  \u001b[31m│\u001b[0m exit code: \u001b[1;36m1\u001b[0m\n",
      "  \u001b[31m╰─>\u001b[0m \u001b[31m[63 lines of output]\u001b[0m\n",
      "  \u001b[31m   \u001b[0m running bdist_wheel\n",
      "  \u001b[31m   \u001b[0m running build\n",
      "  \u001b[31m   \u001b[0m running build_py\n",
      "  \u001b[31m   \u001b[0m creating build\n",
      "  \u001b[31m   \u001b[0m creating build/lib.macosx-13.4-arm64-cpython-310\n",
      "  \u001b[31m   \u001b[0m creating build/lib.macosx-13.4-arm64-cpython-310/pygraphviz\n",
      "  \u001b[31m   \u001b[0m copying pygraphviz/scraper.py -> build/lib.macosx-13.4-arm64-cpython-310/pygraphviz\n",
      "  \u001b[31m   \u001b[0m copying pygraphviz/graphviz.py -> build/lib.macosx-13.4-arm64-cpython-310/pygraphviz\n",
      "  \u001b[31m   \u001b[0m copying pygraphviz/__init__.py -> build/lib.macosx-13.4-arm64-cpython-310/pygraphviz\n",
      "  \u001b[31m   \u001b[0m copying pygraphviz/agraph.py -> build/lib.macosx-13.4-arm64-cpython-310/pygraphviz\n",
      "  \u001b[31m   \u001b[0m copying pygraphviz/testing.py -> build/lib.macosx-13.4-arm64-cpython-310/pygraphviz\n",
      "  \u001b[31m   \u001b[0m creating build/lib.macosx-13.4-arm64-cpython-310/pygraphviz/tests\n",
      "  \u001b[31m   \u001b[0m copying pygraphviz/tests/test_unicode.py -> build/lib.macosx-13.4-arm64-cpython-310/pygraphviz/tests\n",
      "  \u001b[31m   \u001b[0m copying pygraphviz/tests/test_scraper.py -> build/lib.macosx-13.4-arm64-cpython-310/pygraphviz/tests\n",
      "  \u001b[31m   \u001b[0m copying pygraphviz/tests/test_readwrite.py -> build/lib.macosx-13.4-arm64-cpython-310/pygraphviz/tests\n",
      "  \u001b[31m   \u001b[0m copying pygraphviz/tests/test_string.py -> build/lib.macosx-13.4-arm64-cpython-310/pygraphviz/tests\n",
      "  \u001b[31m   \u001b[0m copying pygraphviz/tests/__init__.py -> build/lib.macosx-13.4-arm64-cpython-310/pygraphviz/tests\n",
      "  \u001b[31m   \u001b[0m copying pygraphviz/tests/test_html.py -> build/lib.macosx-13.4-arm64-cpython-310/pygraphviz/tests\n",
      "  \u001b[31m   \u001b[0m copying pygraphviz/tests/test_node_attributes.py -> build/lib.macosx-13.4-arm64-cpython-310/pygraphviz/tests\n",
      "  \u001b[31m   \u001b[0m copying pygraphviz/tests/test_drawing.py -> build/lib.macosx-13.4-arm64-cpython-310/pygraphviz/tests\n",
      "  \u001b[31m   \u001b[0m copying pygraphviz/tests/test_repr_mimebundle.py -> build/lib.macosx-13.4-arm64-cpython-310/pygraphviz/tests\n",
      "  \u001b[31m   \u001b[0m copying pygraphviz/tests/test_subgraph.py -> build/lib.macosx-13.4-arm64-cpython-310/pygraphviz/tests\n",
      "  \u001b[31m   \u001b[0m copying pygraphviz/tests/test_close.py -> build/lib.macosx-13.4-arm64-cpython-310/pygraphviz/tests\n",
      "  \u001b[31m   \u001b[0m copying pygraphviz/tests/test_edge_attributes.py -> build/lib.macosx-13.4-arm64-cpython-310/pygraphviz/tests\n",
      "  \u001b[31m   \u001b[0m copying pygraphviz/tests/test_clear.py -> build/lib.macosx-13.4-arm64-cpython-310/pygraphviz/tests\n",
      "  \u001b[31m   \u001b[0m copying pygraphviz/tests/test_layout.py -> build/lib.macosx-13.4-arm64-cpython-310/pygraphviz/tests\n",
      "  \u001b[31m   \u001b[0m copying pygraphviz/tests/test_attribute_defaults.py -> build/lib.macosx-13.4-arm64-cpython-310/pygraphviz/tests\n",
      "  \u001b[31m   \u001b[0m copying pygraphviz/tests/test_graph.py -> build/lib.macosx-13.4-arm64-cpython-310/pygraphviz/tests\n",
      "  \u001b[31m   \u001b[0m running egg_info\n",
      "  \u001b[31m   \u001b[0m writing pygraphviz.egg-info/PKG-INFO\n",
      "  \u001b[31m   \u001b[0m writing dependency_links to pygraphviz.egg-info/dependency_links.txt\n",
      "  \u001b[31m   \u001b[0m writing top-level names to pygraphviz.egg-info/top_level.txt\n",
      "  \u001b[31m   \u001b[0m reading manifest file 'pygraphviz.egg-info/SOURCES.txt'\n",
      "  \u001b[31m   \u001b[0m reading manifest template 'MANIFEST.in'\n",
      "  \u001b[31m   \u001b[0m warning: no files found matching '*.swg'\n",
      "  \u001b[31m   \u001b[0m warning: no files found matching '*.png' under directory 'doc'\n",
      "  \u001b[31m   \u001b[0m warning: no files found matching '*.html' under directory 'doc'\n",
      "  \u001b[31m   \u001b[0m warning: no files found matching '*.txt' under directory 'doc'\n",
      "  \u001b[31m   \u001b[0m warning: no files found matching '*.css' under directory 'doc'\n",
      "  \u001b[31m   \u001b[0m warning: no previously-included files matching '*~' found anywhere in distribution\n",
      "  \u001b[31m   \u001b[0m warning: no previously-included files matching '*.pyc' found anywhere in distribution\n",
      "  \u001b[31m   \u001b[0m warning: no previously-included files matching '.svn' found anywhere in distribution\n",
      "  \u001b[31m   \u001b[0m no previously-included directories found matching 'doc/build'\n",
      "  \u001b[31m   \u001b[0m adding license file 'LICENSE'\n",
      "  \u001b[31m   \u001b[0m writing manifest file 'pygraphviz.egg-info/SOURCES.txt'\n",
      "  \u001b[31m   \u001b[0m copying pygraphviz/graphviz.i -> build/lib.macosx-13.4-arm64-cpython-310/pygraphviz\n",
      "  \u001b[31m   \u001b[0m copying pygraphviz/graphviz_wrap.c -> build/lib.macosx-13.4-arm64-cpython-310/pygraphviz\n",
      "  \u001b[31m   \u001b[0m running build_ext\n",
      "  \u001b[31m   \u001b[0m building 'pygraphviz._graphviz' extension\n",
      "  \u001b[31m   \u001b[0m creating build/temp.macosx-13.4-arm64-cpython-310\n",
      "  \u001b[31m   \u001b[0m creating build/temp.macosx-13.4-arm64-cpython-310/pygraphviz\n",
      "  \u001b[31m   \u001b[0m clang -Wno-unused-result -Wsign-compare -Wunreachable-code -DNDEBUG -g -fwrapv -O3 -Wall -I/opt/homebrew/opt/zlib -I/opt/homebrew/opt/zlib -DSWIG_PYTHON_STRICT_BYTE_CHAR \"-I<PATH FROM STEP 3>/include/\" -I/Users/delus/.pyenv/versions/3.10.12/include/python3.10 -c pygraphviz/graphviz_wrap.c -o build/temp.macosx-13.4-arm64-cpython-310/pygraphviz/graphviz_wrap.o\n",
      "  \u001b[31m   \u001b[0m pygraphviz/graphviz_wrap.c:9:9: warning: 'SWIG_PYTHON_STRICT_BYTE_CHAR' macro redefined [-Wmacro-redefined]\n",
      "  \u001b[31m   \u001b[0m     9 | #define SWIG_PYTHON_STRICT_BYTE_CHAR\n",
      "  \u001b[31m   \u001b[0m       |         ^\n",
      "  \u001b[31m   \u001b[0m <command line>:2:9: note: previous definition is here\n",
      "  \u001b[31m   \u001b[0m     2 | #define SWIG_PYTHON_STRICT_BYTE_CHAR 1\n",
      "  \u001b[31m   \u001b[0m       |         ^\n",
      "  \u001b[31m   \u001b[0m pygraphviz/graphviz_wrap.c:3023:10: fatal error: 'graphviz/cgraph.h' file not found\n",
      "  \u001b[31m   \u001b[0m  3023 | #include \"graphviz/cgraph.h\"\n",
      "  \u001b[31m   \u001b[0m       |          ^~~~~~~~~~~~~~~~~~~\n",
      "  \u001b[31m   \u001b[0m 1 warning and 1 error generated.\n",
      "  \u001b[31m   \u001b[0m error: command '/opt/homebrew/opt/llvm/bin/clang' failed with exit code 1\n",
      "  \u001b[31m   \u001b[0m \u001b[31m[end of output]\u001b[0m\n",
      "  \n",
      "  \u001b[1;35mnote\u001b[0m: This error originates from a subprocess, and is likely not a problem with pip.\n",
      "\u001b[?25h\u001b[31m  ERROR: Failed building wheel for pygraphviz\u001b[0m\u001b[31m\n",
      "\u001b[0mFailed to build pygraphviz\n",
      "\u001b[31mERROR: Could not build wheels for pygraphviz, which is required to install pyproject.toml-based projects\u001b[0m\u001b[31m\n",
      "\u001b[0m"
     ]
    }
   ],
   "source": [
    "!pip install pygraphviz"
   ]
  },
  {
   "cell_type": "code",
   "execution_count": 106,
   "metadata": {},
   "outputs": [
    {
     "data": {
      "text/plain": [
       "'directed_graph.pdf'"
      ]
     },
     "execution_count": 106,
     "metadata": {},
     "output_type": "execute_result"
    }
   ],
   "source": [
    "from graphviz import Digraph\n",
    "\n",
    "# Create a directed graph\n",
    "dot = Digraph()\n",
    "\n",
    "# Define edges (example)\n",
    "edges = [(1, 2), (2, 3), (3, 1), (3, 4), (4, 5)]\n",
    "\n",
    "# Define positions for the nodes (example)\n",
    "positions = {\n",
    "    1: (0, 0),\n",
    "    2: (1, 2),\n",
    "    3: (2, 0),\n",
    "    4: (3, 2),\n",
    "    5: (4, 0)\n",
    "}\n",
    "\n",
    "# Add nodes to the graph\n",
    "for node, pos in positions.items():\n",
    "    dot.node(str(node), pos=f\"{pos[0]},{pos[1]}!\")\n",
    "\n",
    "# Add edges to the graph\n",
    "for edge in edges:\n",
    "    dot.edge(str(edge[0]), str(edge[1]), arrowhead='normal', arrowtail='none', dir='both')\n",
    "\n",
    "# Render the graph\n",
    "dot.render('directed_graph', format='png', cleanup=True)\n",
    "dot.view()"
   ]
  },
  {
   "cell_type": "code",
   "execution_count": 8,
   "metadata": {},
   "outputs": [
    {
     "data": {
      "image/png": "[encoded data removed]",
      "text/plain": [
       "<Figure size 640x480 with 1 Axes>"
      ]
     },
     "metadata": {},
     "output_type": "display_data"
    }
   ],
   "source": [
    "import pandas as pd\n",
    "import matplotlib.pyplot as plt\n",
    "df = pd.DataFrame.from_dict({'x' : [0, 1.34, 1.76127, 2.5674],\n",
    "                            'y' :  [1,2,3,4]})\n",
    "x = df['x']\n",
    "y = df['y']\n",
    "# calculate position and direction vectors:\n",
    "x0 = x.iloc[range(len(x)-1)].values\n",
    "x1 = x.iloc[range(1,len(x))].values\n",
    "y0 = y.iloc[range(len(y)-1)].values\n",
    "y1 = y.iloc[range(1,len(y))].values\n",
    "xpos = (x0+x1)/2\n",
    "ypos = (y0+y1)/2\n",
    "xdir = x1-x0\n",
    "ydir = y1-y0\n",
    "fig, ax = plt.subplots()\n",
    "\n",
    "# show grid \n",
    "ax.grid(True)\n",
    "\n",
    "# Set the x from 0 to 5\n",
    "ax.set_xlim(0, 5)\n",
    "# Set the y from 0 to 4\n",
    "ax.set_ylim(1, 4.1)\n",
    "\n",
    "# remove top border\n",
    "ax.spines['top'].set_visible(False)\n",
    "ax.scatter(x,y)\n",
    "\n",
    "# plot the line, color is green, node is green, linewidth is 2  \n",
    "ax.plot(x,y, color='g', marker='o', linewidth=1)\n",
    "\n",
    "# plot arrow on each line:\n",
    "for X,Y,dX,dY in zip(xpos, ypos, xdir, ydir):\n",
    "    ax.annotate(\"\", xytext=(X,Y),xy=(X+0.001*dX,Y+0.001*dY),\n",
    "    arrowprops=dict(arrowstyle=\"->\", color='g'), size = 15,\n",
    "    \n",
    "    )\n",
    "\n",
    "plt.show()"
   ]
  }
 ],
 "metadata": {
  "kernelspec": {
   "display_name": "Python 3",
   "language": "python",
   "name": "python3"
  },
  "language_info": {
   "codemirror_mode": {
    "name": "ipython",
    "version": 3
   },
   "file_extension": ".py",
   "mimetype": "text/x-python",
   "name": "python",
   "nbconvert_exporter": "python",
   "pygments_lexer": "ipython3",
   "version": "3.10.12"
  }
 },
 "nbformat": 4,
 "nbformat_minor": 2
}
